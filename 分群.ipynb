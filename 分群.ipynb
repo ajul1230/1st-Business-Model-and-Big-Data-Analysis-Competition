{
 "cells": [
  {
   "cell_type": "code",
   "execution_count": 1,
   "metadata": {},
   "outputs": [],
   "source": [
    "import pandas as pd\n",
    "import numpy as np\n",
    "from sklearn import cluster, datasets, metrics, preprocessing\n",
    "#導入需要的套件"
   ]
  },
  {
   "cell_type": "code",
   "execution_count": 2,
   "metadata": {},
   "outputs": [],
   "source": [
    "df_fundNav = pd.read_csv('/Users/weihongjie/python/排除10檔淨值.csv') #導入淨值的資料"
   ]
  },
  {
   "cell_type": "code",
   "execution_count": 8,
   "metadata": {},
   "outputs": [],
   "source": [
    "#製作以fld003為資料的dictionary\n",
    "corr_dict = {}\n",
    "\n",
    "for i in df_fundNav[\"coid\"].unique():\n",
    "    \n",
    "    \n",
    "    df_buff = df_fundNav[df_fundNav[\"coid\"] == i]\n",
    "    df_buff = df_buff.reset_index(drop=True)\n",
    "    \n",
    "    corr_dict[i] = df_buff[\"fld003\"]"
   ]
  },
  {
   "cell_type": "code",
   "execution_count": 9,
   "metadata": {},
   "outputs": [],
   "source": [
    "#建立淨值的DataFrame\n",
    "df_new = pd.DataFrame(corr_dict)"
   ]
  },
  {
   "cell_type": "code",
   "execution_count": 10,
   "metadata": {},
   "outputs": [],
   "source": [
    "#用淨值建立相關係數，使用pearson的理論（最常見的理論）\n",
    "df_corr = df_new.corr(method = 'pearson')"
   ]
  },
  {
   "cell_type": "code",
   "execution_count": 11,
   "metadata": {},
   "outputs": [],
   "source": [
    "#導出\n",
    "df_corr.to_csv('相關係數.csv')"
   ]
  },
  {
   "cell_type": "code",
   "execution_count": 16,
   "metadata": {},
   "outputs": [],
   "source": [
    "#因為這檔基金的淨值永遠為一，因此設為與其他基金不相關\n",
    "df_corr['CTY33']=0\n",
    "df_corr.loc['CTY33']=0"
   ]
  },
  {
   "cell_type": "code",
   "execution_count": 17,
   "metadata": {},
   "outputs": [],
   "source": [
    "#將DataFrame轉為Numpy Array 方便使用sklearn這個套件\n",
    "arr_corr=[]\n",
    "for funds in df_corr.index.unique():\n",
    "    arr_corr.append(np.array(df_corr[funds])) "
   ]
  },
  {
   "cell_type": "code",
   "execution_count": 18,
   "metadata": {},
   "outputs": [],
   "source": [
    "#把有490個index的list合併成一個\n",
    "stack_corr = np.vstack((arr_corr[0],arr_corr[1]))\n",
    "for i in range(2,490):\n",
    "    stack_corr = np.vstack((stack_corr,arr_corr[i]))"
   ]
  },
  {
   "cell_type": "code",
   "execution_count": 19,
   "metadata": {},
   "outputs": [],
   "source": [
    "#相關係數四捨五入\n",
    "stack_corr = stack_corr.round(decimals=6)"
   ]
  },
  {
   "cell_type": "code",
   "execution_count": 20,
   "metadata": {},
   "outputs": [],
   "source": [
    "#用hierarchical clustering分群\n",
    "#可調的參數可以參考https://ppt.cc/fDaXEx\n",
    "hclust = cluster.AgglomerativeClustering(linkage = 'complete', affinity = 'euclidean', n_clusters = 5)"
   ]
  },
  {
   "cell_type": "code",
   "execution_count": 21,
   "metadata": {},
   "outputs": [
    {
     "data": {
      "text/plain": [
       "AgglomerativeClustering(affinity='euclidean', compute_full_tree='auto',\n",
       "            connectivity=None, linkage='complete', memory=None,\n",
       "            n_clusters=5, pooling_func=<function mean at 0x10633f1e0>)"
      ]
     },
     "execution_count": 21,
     "metadata": {},
     "output_type": "execute_result"
    }
   ],
   "source": [
    "#將剛剛合併的numpy檔stack_corr套入模型\n",
    "hclust.fit(stack_corr)"
   ]
  },
  {
   "cell_type": "code",
   "execution_count": 22,
   "metadata": {},
   "outputs": [],
   "source": [
    "#輸出label\n",
    "cluster_labels = hclust.labels_"
   ]
  },
  {
   "cell_type": "code",
   "execution_count": 23,
   "metadata": {},
   "outputs": [
    {
     "data": {
      "text/plain": [
       "array([3, 3, 3, 4, 4, 3, 3, 3, 2, 4, 3, 3, 0, 3, 3, 2, 3, 3, 3, 1, 3, 3,\n",
       "       3, 0, 0, 0, 0, 0, 0, 3, 0, 0, 0, 3, 3, 3, 3, 0, 0, 4, 4, 0, 3, 3,\n",
       "       0, 4, 3, 3, 3, 0, 3, 3, 3, 3, 3, 3, 3, 3, 1, 3, 3, 2, 0, 3, 0, 3,\n",
       "       3, 3, 3, 3, 3, 3, 3, 0, 3, 3, 3, 3, 4, 3, 4, 2, 2, 4, 3, 4, 3, 4,\n",
       "       2, 3, 3, 0, 3, 4, 0, 3, 3, 3, 1, 3, 3, 3, 3, 3, 2, 3, 2, 2, 3, 3,\n",
       "       3, 4, 3, 4, 3, 4, 1, 3, 3, 3, 3, 3, 3, 4, 3, 3, 3, 3, 2, 4, 3, 4,\n",
       "       3, 2, 1, 2, 4, 4, 1, 3, 2, 3, 3, 3, 0, 4, 4, 0, 2, 4, 0, 0, 0, 0,\n",
       "       3, 4, 3, 1, 2, 4, 0, 3, 3, 4, 2, 4, 3, 2, 4, 0, 4, 4, 4, 2, 0, 2,\n",
       "       2, 2, 2, 3, 4, 3, 4, 4, 3, 0, 3, 3, 3, 2, 2, 3, 3, 3, 3, 3, 2, 3,\n",
       "       3, 4, 3, 3, 3, 3, 4, 3, 3, 2, 3, 3, 3, 3, 4, 3, 3, 0, 0, 2, 4, 3,\n",
       "       2, 3, 0, 2, 4, 3, 0, 4, 3, 2, 3, 3, 3, 0, 3, 3, 3, 0, 3, 3, 3, 4,\n",
       "       0, 0, 0, 3, 3, 3, 3, 3, 3, 3, 0, 2, 3, 3, 3, 2, 0, 2, 3, 3, 0, 0,\n",
       "       0, 0, 3, 3, 3, 3, 3, 3, 3, 3, 3, 0, 3, 3, 2, 0, 2, 3, 0, 0, 3, 3,\n",
       "       4, 3, 0, 3, 3, 3, 3, 3, 3, 3, 3, 2, 0, 0, 0, 3, 2, 3, 0, 0, 3, 3,\n",
       "       3, 4, 3, 3, 4, 4, 2, 2, 4, 3, 0, 2, 3, 3, 4, 3, 2, 4, 3, 0, 3, 3,\n",
       "       3, 2, 1, 3, 0, 3, 2, 0, 3, 1, 0, 0, 2, 0, 3, 2, 2, 4, 3, 3, 2, 3,\n",
       "       0, 3, 4, 0, 0, 3, 3, 3, 3, 0, 3, 0, 3, 3, 3, 0, 4, 3, 0, 3, 3, 4,\n",
       "       3, 0, 2, 3, 3, 3, 3, 3, 3, 3, 4, 3, 3, 0, 3, 3, 2, 3, 3, 3, 3, 3,\n",
       "       0, 4, 2, 3, 4, 3, 2, 3, 3, 2, 0, 0, 2, 3, 4, 4, 0, 4, 4, 3, 3, 3,\n",
       "       3, 3, 3, 3, 3, 3, 0, 3, 0, 0, 0, 3, 3, 3, 1, 3, 4, 0, 3, 3, 3, 4,\n",
       "       3, 3, 3, 4, 3, 0, 3, 3, 3, 3, 0, 3, 3, 1, 3, 0, 3, 3, 3, 3, 4, 3,\n",
       "       3, 4, 0, 2, 3, 3, 4, 4, 3, 3, 3, 3, 3, 3, 3, 3, 3, 3, 3, 3, 3, 0,\n",
       "       4, 0, 0, 3, 2, 3])"
      ]
     },
     "execution_count": 23,
     "metadata": {},
     "output_type": "execute_result"
    }
   ],
   "source": [
    "cluster_labels"
   ]
  },
  {
   "cell_type": "code",
   "execution_count": null,
   "metadata": {},
   "outputs": [],
   "source": []
  }
 ],
 "metadata": {
  "kernelspec": {
   "display_name": "Python 3",
   "language": "python",
   "name": "python3"
  },
  "language_info": {
   "codemirror_mode": {
    "name": "ipython",
    "version": 3
   },
   "file_extension": ".py",
   "mimetype": "text/x-python",
   "name": "python",
   "nbconvert_exporter": "python",
   "pygments_lexer": "ipython3",
   "version": "3.6.5"
  }
 },
 "nbformat": 4,
 "nbformat_minor": 2
}
